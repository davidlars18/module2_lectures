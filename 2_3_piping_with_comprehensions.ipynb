{
  "nbformat": 4,
  "nbformat_minor": 0,
  "metadata": {
    "anaconda-cloud": {},
    "kernelspec": {
      "display_name": "Python 3",
      "language": "python",
      "name": "python3"
    },
    "language_info": {
      "codemirror_mode": {
        "name": "ipython",
        "version": 3
      },
      "file_extension": ".py",
      "mimetype": "text/x-python",
      "name": "python",
      "nbconvert_exporter": "python",
      "pygments_lexer": "ipython3",
      "version": "3.7.2"
    },
    "colab": {
      "name": "2_3_piping_with_comprehensions.ipynb",
      "provenance": [],
      "include_colab_link": true
    }
  },
  "cells": [
    {
      "cell_type": "markdown",
      "metadata": {
        "id": "view-in-github",
        "colab_type": "text"
      },
      "source": [
        "<a href=\"https://colab.research.google.com/github/davidlars18/module2_lectures/blob/master/2_3_piping_with_comprehensions.ipynb\" target=\"_parent\"><img src=\"https://colab.research.google.com/assets/colab-badge.svg\" alt=\"Open In Colab\"/></a>"
      ]
    },
    {
      "cell_type": "markdown",
      "metadata": {
        "id": "kayI98xPgq0G",
        "colab_type": "text"
      },
      "source": [
        "# Piping and List Comprehensions\n",
        "\n",
        "## Objectives\n",
        "\n",
        "1. Identify and use the basic structures of combinind list comprehensions and piping\n",
        "2. Learn about composing list comprehension lambdas"
      ]
    },
    {
      "cell_type": "markdown",
      "metadata": {
        "collapsed": true,
        "id": "3RN8787xgq0I",
        "colab_type": "text"
      },
      "source": [
        "## List Comprehension\n",
        "\n",
        "* Expression for constructing list\n",
        "* Returns a new list\n",
        "* Reads like math\n",
        "    * Set builder notation"
      ]
    },
    {
      "cell_type": "code",
      "metadata": {
        "id": "92SIiVFBgq0J",
        "colab_type": "code",
        "colab": {},
        "outputId": "561f5452-8626-4cb7-fdfc-5aaffb3c950f"
      },
      "source": [
        "mylist = [1,2,3,4,5]\n",
        "yourlist = [item ** 2 for item in mylist]\n",
        "yourlist"
      ],
      "execution_count": null,
      "outputs": [
        {
          "output_type": "execute_result",
          "data": {
            "text/plain": [
              "[1, 4, 9, 16, 25]"
            ]
          },
          "metadata": {
            "tags": []
          },
          "execution_count": 1
        }
      ]
    },
    {
      "cell_type": "markdown",
      "metadata": {
        "id": "VZgOFIS7gq0T",
        "colab_type": "text"
      },
      "source": [
        "## Pipeable functions with comprehensions\n",
        "\n",
        "\n",
        "    \n",
        "<img src=\"https://github.com/davidlars18/module2_lectures/blob/master/img/pipe_and_list_comp.png?raw=1\" width=600>"
      ]
    },
    {
      "cell_type": "markdown",
      "metadata": {
        "id": "AU62JpsOgq0U",
        "colab_type": "text"
      },
      "source": [
        "## Splitting and processing string\n",
        "\n",
        "* Use `split` to cut a string into a list of strings\n",
        "* Use a comprehension to process the list."
      ]
    },
    {
      "cell_type": "code",
      "metadata": {
        "id": "ew2eqV6ngq0U",
        "colab_type": "code",
        "colab": {
          "base_uri": "https://localhost:8080/",
          "height": 34
        },
        "outputId": "6cf50ff5-2184-4224-b4e9-edd52a161eed"
      },
      "source": [
        "quote = \"Don't judge each day by the harvest you reap but by the seeds that you plant.\"\n",
        "words = quote.split(\" \")\n",
        "lengths =  [len(word) for word in words]\n",
        "mean = sum(lengths)/len(lengths)\n",
        "mean"
      ],
      "execution_count": null,
      "outputs": [
        {
          "output_type": "execute_result",
          "data": {
            "text/plain": [
              "3.875"
            ]
          },
          "metadata": {
            "tags": []
          },
          "execution_count": 3
        }
      ]
    },
    {
      "cell_type": "code",
      "metadata": {
        "id": "iAMEp5o9lQqT",
        "colab_type": "code",
        "colab": {
          "base_uri": "https://localhost:8080/",
          "height": 136
        },
        "outputId": "ea4da18d-d311-46cc-9c04-7862152f1475"
      },
      "source": [
        "!pip install composable"
      ],
      "execution_count": 1,
      "outputs": [
        {
          "output_type": "stream",
          "text": [
            "Collecting composable\n",
            "  Downloading https://files.pythonhosted.org/packages/d3/1a/87106d920e7533b86b7de59d4df02a36e7289618fbd51a5b837d090e1400/composable-0.1.3-py3-none-any.whl\n",
            "Collecting python-forge<19.0,>=18.6\n",
            "  Downloading https://files.pythonhosted.org/packages/41/d6/e9af8e22d153ebbf584833c1c96d590046f522ae2a86978d4efe496b4aac/python_forge-18.6.0-py35-none-any.whl\n",
            "Requirement already satisfied: toolz<0.11.0,>=0.10.0 in /usr/local/lib/python3.6/dist-packages (from composable) (0.10.0)\n",
            "Installing collected packages: python-forge, composable\n",
            "Successfully installed composable-0.1.3 python-forge-18.6.0\n"
          ],
          "name": "stdout"
        }
      ]
    },
    {
      "cell_type": "code",
      "metadata": {
        "id": "MoP2oiVngq0X",
        "colab_type": "code",
        "colab": {}
      },
      "source": [
        "from composable import pipeable"
      ],
      "execution_count": 2,
      "outputs": []
    },
    {
      "cell_type": "code",
      "metadata": {
        "id": "2Ucp-p1ngq0a",
        "colab_type": "code",
        "colab": {}
      },
      "source": [
        "split = pipeable(lambda sep, s: s.split(sep))\n",
        "word_lengths = pipeable(lambda L: [len(word) for word in L])\n",
        "mean = pipeable(lambda L: sum(L)/len(L))"
      ],
      "execution_count": null,
      "outputs": []
    },
    {
      "cell_type": "code",
      "metadata": {
        "id": "HMq1KXD2gq0d",
        "colab_type": "code",
        "colab": {},
        "outputId": "d53f8ac4-034d-46ab-c0a8-8b9d810467ae"
      },
      "source": [
        "(quote\n",
        " >> split(\" \")\n",
        " >> word_lengths\n",
        " >> mean\n",
        ")"
      ],
      "execution_count": null,
      "outputs": [
        {
          "output_type": "execute_result",
          "data": {
            "text/plain": [
              "3.875"
            ]
          },
          "metadata": {
            "tags": []
          },
          "execution_count": 13
        }
      ]
    },
    {
      "cell_type": "markdown",
      "metadata": {
        "id": "b7oUZu-ogq0i",
        "colab_type": "text"
      },
      "source": [
        "### <font color='red'> Exercise 1 </font>\n",
        "\n",
        "Use a pipe to take a quote, split it into words, and then grab the last two letter of each word.  **Hint:** Use the slice operation!  Package this process in a function called `first_two_char` and including appropriate doc string and text function."
      ]
    },
    {
      "cell_type": "code",
      "metadata": {
        "id": "rLjvTXBSgq0l",
        "colab_type": "code",
        "colab": {}
      },
      "source": [
        "quote = \"Don't judge each day by the harvest you reap but by the seeds that you plant.\"\n",
        "split = pipeable(lambda sep, str: str.split(sep))\n",
        "last_two = pipeable(lambda l: [word[-2] + word[-1] for word in l])\n",
        "\n",
        "def last_two_char (string):\n",
        "  \"\"\" this method splits a string by words and then grabs the last two letters in each letter\n",
        "  args: a string\n",
        "  returns a list of the last two letters of each letter\n",
        "  \"\"\"\n",
        "  result = (string\n",
        "  >> split(\" \")\n",
        "  >> last_two\n",
        "  )\n",
        "\n",
        "  return result\n",
        "\n",
        "def test_last_two_char():\n",
        "  assert last_two_char(\"let me go\") == [\"et\", \"me\", \"go\"]\n",
        "  assert last_two_char(\"Silas Bergen\") == [\"as\", \"en\"]\n",
        "  assert not last_two_char(\"Todd Iverson\") == [\"To\", \"Iv\"]\n",
        "\n",
        "test_last_two_char()"
      ],
      "execution_count": 5,
      "outputs": []
    },
    {
      "cell_type": "markdown",
      "metadata": {
        "id": "4ePoNyaHgq0p",
        "colab_type": "text"
      },
      "source": [
        "\n",
        "### <font color='red'> Exercise 2 </font>\n",
        "\n",
        "Notice that period at the end of the sentence.  It is probably safest to remove punctuation like periods, questions marks, and exclamation points.  Add a step to the pipe to remove these characters."
      ]
    },
    {
      "cell_type": "code",
      "metadata": {
        "id": "bK5EtwiMgq0q",
        "colab_type": "code",
        "colab": {}
      },
      "source": [
        "import string \n",
        "import re\n",
        "split = pipeable(lambda sep, s: s.split(sep))\n",
        "last_two = pipeable(lambda l: [word[-2] + word[-1] for word in l])\n",
        "remove_punct = pipeable(lambda s: s.translate(str.maketrans('', '', string.punctuation)))\n",
        "\n",
        "def  last_two_char2 (s):\n",
        "  \"\"\" this method removes all punctuation from a string, splits it by words, and then grabs the last two letters in each letter\n",
        "      Args: needs a string input\n",
        "      returns the last two letters of each word in string\n",
        "  \"\"\"\n",
        "  result = (s\n",
        "  >> remove_punct\n",
        "  >> split(\" \")\n",
        "  >> last_two\n",
        "  )\n",
        "  return result\n",
        "\n",
        "def test_last_two_char2():\n",
        "  assert last_two_char2(\"let! me go\") == [\"et\", \"me\", \"go\"]\n",
        "  assert last_two_char2(\"Sila's Berge?n\") == [\"as\", \"en\"]\n",
        "  assert last_two_char2(\"Todd/';. Iverson'''\") == [\"dd\", \"on\"]\n",
        "\n",
        "test_last_two_char2()"
      ],
      "execution_count": 6,
      "outputs": []
    },
    {
      "cell_type": "markdown",
      "metadata": {
        "id": "rHYPnr3Egq0u",
        "colab_type": "text"
      },
      "source": [
        "## (Ab)Using tuples in sequence processing.\n",
        "\n",
        "* Sometimes it is useful to hold mulitple pieces of information at once.\n",
        "    * Example *Keep all of the even length words* needs both length and the words themselves.\n",
        "* In this case we will use a list of tuples to aid the computation."
      ]
    },
    {
      "cell_type": "markdown",
      "metadata": {
        "id": "FHLfI2BMgq0v",
        "colab_type": "text"
      },
      "source": [
        "## Example: Take a quote and only keep the even length word."
      ]
    },
    {
      "cell_type": "markdown",
      "metadata": {
        "id": "SefpTmqrgq0w",
        "colab_type": "text"
      },
      "source": [
        "#### Step 1 -- Get both words and lengths"
      ]
    },
    {
      "cell_type": "code",
      "metadata": {
        "id": "r0fXaLq8gq0z",
        "colab_type": "code",
        "colab": {}
      },
      "source": [
        "lengths_and_words = pipeable(lambda L: [(w, len(w)) for w in L ])\n",
        "take = pipeable(lambda num, L: L[:num])"
      ],
      "execution_count": 28,
      "outputs": []
    },
    {
      "cell_type": "code",
      "metadata": {
        "id": "CrtMlVfsgq06",
        "colab_type": "code",
        "colab": {
          "base_uri": "https://localhost:8080/",
          "height": 34
        },
        "outputId": "549880d7-acab-45e8-c561-7c482dce85d6"
      },
      "source": [
        "(quote\n",
        " >> split(\" \")\n",
        " >> lengths_and_words\n",
        " >> take(2)\n",
        ")"
      ],
      "execution_count": 31,
      "outputs": [
        {
          "output_type": "execute_result",
          "data": {
            "text/plain": [
              "[(\"Don't\", 5), ('judge', 5)]"
            ]
          },
          "metadata": {
            "tags": []
          },
          "execution_count": 31
        }
      ]
    },
    {
      "cell_type": "markdown",
      "metadata": {
        "id": "gaBL2tkGgq09",
        "colab_type": "text"
      },
      "source": [
        "#### Step 2 -- Filter based on length"
      ]
    },
    {
      "cell_type": "code",
      "metadata": {
        "id": "mmpWQQxxgq0-",
        "colab_type": "code",
        "colab": {}
      },
      "source": [
        "is_even = lambda num: num % 2 == 0\n",
        "keep_even_lengths = pipeable(lambda tups: [w for w, length in tups if is_even(length)])"
      ],
      "execution_count": 17,
      "outputs": []
    },
    {
      "cell_type": "code",
      "metadata": {
        "id": "Tmlp88Lzgq1C",
        "colab_type": "code",
        "colab": {
          "base_uri": "https://localhost:8080/",
          "height": 34
        },
        "outputId": "5c9a7144-56c9-4ea4-df67-8a9f33e61819"
      },
      "source": [
        "(quote\n",
        " >> split(\" \")\n",
        " >> lengths_and_words\n",
        " >> keep_even_lengths\n",
        ")"
      ],
      "execution_count": 18,
      "outputs": [
        {
          "output_type": "execute_result",
          "data": {
            "text/plain": [
              "['each', 'by', 'reap', 'by', 'that', 'plant.']"
            ]
          },
          "metadata": {
            "tags": []
          },
          "execution_count": 18
        }
      ]
    },
    {
      "cell_type": "markdown",
      "metadata": {
        "id": "bT7_MKgUgq1G",
        "colab_type": "text"
      },
      "source": [
        "## <font color=\"red\"> TODO Add a image of what is happening here </font>"
      ]
    },
    {
      "cell_type": "markdown",
      "metadata": {
        "id": "WPSMc4D8gq1H",
        "colab_type": "text"
      },
      "source": [
        "### <font color='red'> Exercise 3 </font>\n",
        "\n",
        "Use a pipe to take a quote, split it into words, and then keeps all words that have at least 4 characters.  **Hint:** Use the `lengths_and_words` function! Package this process in a function called `at_least_4_char` and including appropriate doc string and text function."
      ]
    },
    {
      "cell_type": "code",
      "metadata": {
        "id": "7MW4dsJ5gq1I",
        "colab_type": "code",
        "colab": {
          "base_uri": "https://localhost:8080/",
          "height": 340
        },
        "outputId": "58d92a4b-b71c-4a82-baa3-ecaf6efa8d53"
      },
      "source": [
        "from composable import pipeable\n",
        "quote = \"Don't judge each day by the harvest you reap but by the seeds that you plant.\"\n",
        "split = pipeable(lambda sep, str: str.split(sep))\n",
        "lengths_and_words = pipeable(lambda L: [(w, len(w)) for w in L])\n",
        "four_plus = lambda num: num >= 4\n",
        "keep_four_plus_lengths = pipeable(lambda tups: [w for w, length in tups if four_plus(length)])\n",
        "\n",
        "def at_least_four_char (s):\n",
        "  \"\"\" reads a string and filters out all the words that are not at least 4 characters long\n",
        "  args: a string\n",
        "  returns: each word in the string that has at least 4 characters\n",
        "  \"\"\"\n",
        "  result = (s\n",
        "  >> split\n",
        "  >> lengths_and_words\n",
        "  >> keep_four_plus_lengths\n",
        "  )\n",
        "  return result\n",
        "\n",
        "def test_at_least_four_char():\n",
        "  assert at_least_four_char(quote) == [\"Don't\", 'judge', 'each', 'harvest', 'reap', 'seeds', 'that', 'plant.']\n",
        "  assert at_least_four_char(\"bad Silas Bergen\") == ['Silas', 'Bergen']\n",
        "  assert at_least_four_char(\"Todd Iverson\") == ['Todd', 'Iverson']\n",
        "\n",
        "at_least_four_char(\"hello world bye\")"
      ],
      "execution_count": 43,
      "outputs": [
        {
          "output_type": "error",
          "ename": "TypeError",
          "evalue": "ignored",
          "traceback": [
            "\u001b[0;31m---------------------------------------------------------------------------\u001b[0m",
            "\u001b[0;31mTypeError\u001b[0m                                 Traceback (most recent call last)",
            "\u001b[0;32m<ipython-input-43-fae3a68a4472>\u001b[0m in \u001b[0;36m<module>\u001b[0;34m()\u001b[0m\n\u001b[1;32m     23\u001b[0m   \u001b[0;32massert\u001b[0m \u001b[0mat_least_four_char\u001b[0m\u001b[0;34m(\u001b[0m\u001b[0;34m\"Todd Iverson\"\u001b[0m\u001b[0;34m)\u001b[0m \u001b[0;34m==\u001b[0m \u001b[0;34m[\u001b[0m\u001b[0;34m'Todd'\u001b[0m\u001b[0;34m,\u001b[0m \u001b[0;34m'Iverson'\u001b[0m\u001b[0;34m]\u001b[0m\u001b[0;34m\u001b[0m\u001b[0;34m\u001b[0m\u001b[0m\n\u001b[1;32m     24\u001b[0m \u001b[0;34m\u001b[0m\u001b[0m\n\u001b[0;32m---> 25\u001b[0;31m \u001b[0mat_least_four_char\u001b[0m\u001b[0;34m(\u001b[0m\u001b[0;34m\"hello world bye\"\u001b[0m\u001b[0;34m)\u001b[0m\u001b[0;34m\u001b[0m\u001b[0;34m\u001b[0m\u001b[0m\n\u001b[0m",
            "\u001b[0;32m<ipython-input-43-fae3a68a4472>\u001b[0m in \u001b[0;36mat_least_four_char\u001b[0;34m(s)\u001b[0m\n\u001b[1;32m     14\u001b[0m   \u001b[0;34m>>\u001b[0m \u001b[0msplit\u001b[0m\u001b[0;34m\u001b[0m\u001b[0;34m\u001b[0m\u001b[0m\n\u001b[1;32m     15\u001b[0m   \u001b[0;34m>>\u001b[0m \u001b[0mlengths_and_words\u001b[0m\u001b[0;34m\u001b[0m\u001b[0;34m\u001b[0m\u001b[0m\n\u001b[0;32m---> 16\u001b[0;31m   \u001b[0;34m>>\u001b[0m \u001b[0mkeep_four_plus_lengths\u001b[0m\u001b[0;34m\u001b[0m\u001b[0;34m\u001b[0m\u001b[0m\n\u001b[0m\u001b[1;32m     17\u001b[0m   )\n\u001b[1;32m     18\u001b[0m   \u001b[0;32mreturn\u001b[0m \u001b[0mresult\u001b[0m\u001b[0;34m\u001b[0m\u001b[0;34m\u001b[0m\u001b[0m\n",
            "\u001b[0;32m/usr/local/lib/python3.6/dist-packages/composable/pipeable.py\u001b[0m in \u001b[0;36m__rshift__\u001b[0;34m(self, other)\u001b[0m\n\u001b[1;32m     27\u001b[0m         Use a curried function to allow piping n-ary functions.\"\"\"\n\u001b[1;32m     28\u001b[0m         \u001b[0;32massert\u001b[0m \u001b[0mcallable\u001b[0m\u001b[0;34m(\u001b[0m\u001b[0mother\u001b[0m\u001b[0;34m)\u001b[0m\u001b[0;34m,\u001b[0m \u001b[0;34m\"All subsequent elements of a pipe must be callable\"\u001b[0m\u001b[0;34m\u001b[0m\u001b[0;34m\u001b[0m\u001b[0m\n\u001b[0;32m---> 29\u001b[0;31m         \u001b[0;32mreturn\u001b[0m \u001b[0mother\u001b[0m\u001b[0;34m.\u001b[0m\u001b[0m__call__\u001b[0m\u001b[0;34m(\u001b[0m\u001b[0mself\u001b[0m\u001b[0;34m)\u001b[0m\u001b[0;34m\u001b[0m\u001b[0;34m\u001b[0m\u001b[0m\n\u001b[0m",
            "\u001b[0;32m/usr/local/lib/python3.6/dist-packages/toolz/functoolz.py\u001b[0m in \u001b[0;36m__call__\u001b[0;34m(self, *args, **kwargs)\u001b[0m\n\u001b[1;32m    301\u001b[0m     \u001b[0;32mdef\u001b[0m \u001b[0m__call__\u001b[0m\u001b[0;34m(\u001b[0m\u001b[0mself\u001b[0m\u001b[0;34m,\u001b[0m \u001b[0;34m*\u001b[0m\u001b[0margs\u001b[0m\u001b[0;34m,\u001b[0m \u001b[0;34m**\u001b[0m\u001b[0mkwargs\u001b[0m\u001b[0;34m)\u001b[0m\u001b[0;34m:\u001b[0m\u001b[0;34m\u001b[0m\u001b[0;34m\u001b[0m\u001b[0m\n\u001b[1;32m    302\u001b[0m         \u001b[0;32mtry\u001b[0m\u001b[0;34m:\u001b[0m\u001b[0;34m\u001b[0m\u001b[0;34m\u001b[0m\u001b[0m\n\u001b[0;32m--> 303\u001b[0;31m             \u001b[0;32mreturn\u001b[0m \u001b[0mself\u001b[0m\u001b[0;34m.\u001b[0m\u001b[0m_partial\u001b[0m\u001b[0;34m(\u001b[0m\u001b[0;34m*\u001b[0m\u001b[0margs\u001b[0m\u001b[0;34m,\u001b[0m \u001b[0;34m**\u001b[0m\u001b[0mkwargs\u001b[0m\u001b[0;34m)\u001b[0m\u001b[0;34m\u001b[0m\u001b[0;34m\u001b[0m\u001b[0m\n\u001b[0m\u001b[1;32m    304\u001b[0m         \u001b[0;32mexcept\u001b[0m \u001b[0mTypeError\u001b[0m \u001b[0;32mas\u001b[0m \u001b[0mexc\u001b[0m\u001b[0;34m:\u001b[0m\u001b[0;34m\u001b[0m\u001b[0;34m\u001b[0m\u001b[0m\n\u001b[1;32m    305\u001b[0m             \u001b[0;32mif\u001b[0m \u001b[0mself\u001b[0m\u001b[0;34m.\u001b[0m\u001b[0m_should_curry\u001b[0m\u001b[0;34m(\u001b[0m\u001b[0margs\u001b[0m\u001b[0;34m,\u001b[0m \u001b[0mkwargs\u001b[0m\u001b[0;34m,\u001b[0m \u001b[0mexc\u001b[0m\u001b[0;34m)\u001b[0m\u001b[0;34m:\u001b[0m\u001b[0;34m\u001b[0m\u001b[0;34m\u001b[0m\u001b[0m\n",
            "\u001b[0;32m<ipython-input-43-fae3a68a4472>\u001b[0m in \u001b[0;36m<lambda>\u001b[0;34m(L)\u001b[0m\n\u001b[1;32m      2\u001b[0m \u001b[0mquote\u001b[0m \u001b[0;34m=\u001b[0m \u001b[0;34m\"Don't judge each day by the harvest you reap but by the seeds that you plant.\"\u001b[0m\u001b[0;34m\u001b[0m\u001b[0;34m\u001b[0m\u001b[0m\n\u001b[1;32m      3\u001b[0m \u001b[0msplit\u001b[0m \u001b[0;34m=\u001b[0m \u001b[0mpipeable\u001b[0m\u001b[0;34m(\u001b[0m\u001b[0;32mlambda\u001b[0m \u001b[0msep\u001b[0m\u001b[0;34m,\u001b[0m \u001b[0mstr\u001b[0m\u001b[0;34m:\u001b[0m \u001b[0mstr\u001b[0m\u001b[0;34m.\u001b[0m\u001b[0msplit\u001b[0m\u001b[0;34m(\u001b[0m\u001b[0msep\u001b[0m\u001b[0;34m)\u001b[0m\u001b[0;34m)\u001b[0m\u001b[0;34m\u001b[0m\u001b[0;34m\u001b[0m\u001b[0m\n\u001b[0;32m----> 4\u001b[0;31m \u001b[0mlengths_and_words\u001b[0m \u001b[0;34m=\u001b[0m \u001b[0mpipeable\u001b[0m\u001b[0;34m(\u001b[0m\u001b[0;32mlambda\u001b[0m \u001b[0mL\u001b[0m\u001b[0;34m:\u001b[0m \u001b[0;34m[\u001b[0m\u001b[0;34m(\u001b[0m\u001b[0mw\u001b[0m\u001b[0;34m,\u001b[0m \u001b[0mlen\u001b[0m\u001b[0;34m(\u001b[0m\u001b[0mw\u001b[0m\u001b[0;34m)\u001b[0m\u001b[0;34m)\u001b[0m \u001b[0;32mfor\u001b[0m \u001b[0mw\u001b[0m \u001b[0;32min\u001b[0m \u001b[0mL\u001b[0m\u001b[0;34m]\u001b[0m\u001b[0;34m)\u001b[0m\u001b[0;34m\u001b[0m\u001b[0;34m\u001b[0m\u001b[0m\n\u001b[0m\u001b[1;32m      5\u001b[0m \u001b[0mfour_plus\u001b[0m \u001b[0;34m=\u001b[0m \u001b[0;32mlambda\u001b[0m \u001b[0mnum\u001b[0m\u001b[0;34m:\u001b[0m \u001b[0mnum\u001b[0m \u001b[0;34m>=\u001b[0m \u001b[0;36m4\u001b[0m\u001b[0;34m\u001b[0m\u001b[0;34m\u001b[0m\u001b[0m\n\u001b[1;32m      6\u001b[0m \u001b[0mkeep_four_plus_lengths\u001b[0m \u001b[0;34m=\u001b[0m \u001b[0mpipeable\u001b[0m\u001b[0;34m(\u001b[0m\u001b[0;32mlambda\u001b[0m \u001b[0mtups\u001b[0m\u001b[0;34m:\u001b[0m \u001b[0;34m[\u001b[0m\u001b[0mw\u001b[0m \u001b[0;32mfor\u001b[0m \u001b[0mw\u001b[0m\u001b[0;34m,\u001b[0m \u001b[0mlength\u001b[0m \u001b[0;32min\u001b[0m \u001b[0mtups\u001b[0m \u001b[0;32mif\u001b[0m \u001b[0mfour_plus\u001b[0m\u001b[0;34m(\u001b[0m\u001b[0mlength\u001b[0m\u001b[0;34m)\u001b[0m\u001b[0;34m]\u001b[0m\u001b[0;34m)\u001b[0m\u001b[0;34m\u001b[0m\u001b[0;34m\u001b[0m\u001b[0m\n",
            "\u001b[0;31mTypeError\u001b[0m: 'pipeable' object is not iterable"
          ]
        }
      ]
    },
    {
      "cell_type": "markdown",
      "metadata": {
        "id": "wB3OeNYLgq1N",
        "colab_type": "text"
      },
      "source": [
        "<h2> <font color=\"red\"> TODO Add a section on refactoring compositions of comprehensions </font>"
      ]
    }
  ]
}